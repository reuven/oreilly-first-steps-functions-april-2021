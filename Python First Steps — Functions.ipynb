{
 "cells": [
  {
   "cell_type": "markdown",
   "metadata": {},
   "source": [
    "# Welcome!"
   ]
  },
  {
   "cell_type": "markdown",
   "metadata": {},
   "source": [
    " # Agenda\n",
    " \n",
    "1. What are functions?\n",
    "    - Calling functions\n",
    "2. Writing simple functions\n",
    "3. Arguments and parameters\n",
    "4. Return values from functions\n",
    "5. Default values\n",
    "6. Complex return values\n",
    "7. (Tuple) Unpacking\n",
    "8. Local vs. global variables\n"
   ]
  },
  {
   "cell_type": "markdown",
   "metadata": {},
   "source": [
    "# What are functions? Do we even need them?\n",
    " \n",
    "No, we don't need them"
   ]
  },
  {
   "cell_type": "markdown",
   "metadata": {},
   "source": [
    "Functions are an abstraction\n",
    "\n",
    "# DRY -- don't repeat yourself!\n",
    "\n",
    "- If you have the same code repeated several lines in a row, use a loop to DRY up your code\n",
    "- If you have the same code repeated across your program, use a function to DRY up your code\n",
    "- If you have the same code repeated across multiple programs, use modules"
   ]
  },
  {
   "cell_type": "code",
   "execution_count": null,
   "metadata": {},
   "outputs": [],
   "source": []
  }
 ],
 "metadata": {
  "kernelspec": {
   "display_name": "Python 3",
   "language": "python",
   "name": "python3"
  },
  "language_info": {
   "codemirror_mode": {
    "name": "ipython",
    "version": 3
   },
   "file_extension": ".py",
   "mimetype": "text/x-python",
   "name": "python",
   "nbconvert_exporter": "python",
   "pygments_lexer": "ipython3",
   "version": "3.9.4"
  }
 },
 "nbformat": 4,
 "nbformat_minor": 4
}
